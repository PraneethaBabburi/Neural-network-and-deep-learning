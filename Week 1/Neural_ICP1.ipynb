{
  "nbformat": 4,
  "nbformat_minor": 0,
  "metadata": {
    "colab": {
      "provenance": []
    },
    "kernelspec": {
      "name": "python3",
      "display_name": "Python 3"
    },
    "language_info": {
      "name": "python"
    }
  },
  "cells": [
    {
      "cell_type": "code",
      "execution_count": 16,
      "metadata": {
        "id": "q73p_NMZENTG",
        "colab": {
          "base_uri": "https://localhost:8080/"
        },
        "outputId": "ea37fb90-063d-4359-843d-dde30c7600e9"
      },
      "outputs": [
        {
          "output_type": "stream",
          "name": "stdout",
          "text": [
            "enter the first name: Good\n",
            "enter the last name: Evening\n",
            "Full_name: Good Evening\n",
            "alternative string: Go vnn\n"
          ]
        }
      ],
      "source": [
        "#Question 1\n",
        "def fullname(first,last):\n",
        "  return (first+\" \"+last)\n",
        "\n",
        "\n",
        "first=input(\"enter the first name: \")\n",
        "last=input(\"enter the last name: \")\n",
        "full=fullname(first,last)\n",
        "print(\"Full_name: \"+full)\n",
        "\n",
        "def string_alternative(full):\n",
        "  alter_string=''\n",
        "  for i in range(0,len(full),2):\n",
        "    alter_string+=full[i]\n",
        "  return alter_string\n",
        "\n",
        "\n",
        "print(\"alternative string: \"+string_alternative(full))"
      ]
    },
    {
      "cell_type": "markdown",
      "source": [
        "*   Write a function to concatenate first and last name into a full name\n",
        "*    Prompt the user for their first name and last name\n",
        "*    Call the fullname function with user input and store the result in 'full'\n",
        "*    Print the full name to the console.\n",
        "\n",
        "Function to return every alternate character from a given string\n",
        "\n",
        "*    Initialize an empty string to store the alternate characters\n",
        "*    Iterate over the string, skipping every second character\n",
        "*    Add the character at the current index to the result string\n",
        "*    Return the final string with alternate characters\n"
      ],
      "metadata": {
        "id": "8C3ZhGCWla5E"
      }
    },
    {
      "cell_type": "code",
      "source": [
        "#Question 2\n",
        "word_count={}\n",
        "\n",
        "with open(\"output.txt\", \"w\") as file_open:\n",
        "  with open(\"input.txt\", \"r\") as file:\n",
        "      for line in file:\n",
        "          file_open.write(line)\n",
        "          line = line.strip()\n",
        "          words = line.split(\" \")\n",
        "          for word in words:\n",
        "              if word in word_count:\n",
        "                  word_count[word]+=1\n",
        "              else:\n",
        "                  word_count[word]=1\n",
        "      file_open.write(\"\\nWord_Count:\\n\")\n",
        "with open('output.txt', 'a') as f:\n",
        "  for word in word_count:\n",
        "    f.write(f\"{word}: {word_count[word]}\\n\")\n",
        "\n",
        "with open(\"output.txt\",\"r\") as f1:\n",
        "  for line in f1:\n",
        "    print(line)\n",
        "\n",
        "\n",
        ""
      ],
      "metadata": {
        "colab": {
          "base_uri": "https://localhost:8080/"
        },
        "id": "aayifOXjMWU3",
        "outputId": "1b94aa5b-c53d-4043-9f1e-f59736baa964"
      },
      "execution_count": 18,
      "outputs": [
        {
          "output_type": "stream",
          "name": "stdout",
          "text": [
            "Python Course\n",
            "\n",
            "Deep Learning Course\n",
            "\n",
            "Word_Count:\n",
            "\n",
            "Python: 1\n",
            "\n",
            "Course: 2\n",
            "\n",
            "Deep: 1\n",
            "\n",
            "Learning: 1\n",
            "\n"
          ]
        }
      ]
    },
    {
      "cell_type": "markdown",
      "source": [
        "*    Initialize an empty dictionary to store word frequencies\n",
        "*    Open 'output.txt' in write mode\n",
        "*    Open the file \"input.txt\" in read mode\n",
        "*    Iterate over each line in \"input.txt\"\n",
        "*    Write the original line to 'output.txt'\n",
        "*    Remove leading and trailing whitespace from the line\n",
        "*    Split the line into words using a space as the delimiter\n",
        "*    Iterate over each word in the list of words\n",
        "*    Check if the word is already in the dictionary\n",
        "*    If the word exists, increment its count by 1\n",
        "*    If the word is not in the dictionary, add it with a count of 1\n",
        "*    Add a newline character to 'output.txt'\n",
        "*    Append word counts to 'output.txt'\n",
        "*    Iterate over each word in the dictionary\n",
        "*    Write the word and its count to 'output.txt'\n",
        "*    Read 'output.txt' and print its contents"
      ],
      "metadata": {
        "id": "sZOwuojElsYF"
      }
    },
    {
      "cell_type": "code",
      "source": [
        "#Question 3\n",
        "print(\"Enter heights in inches\")\n",
        "heights_in_inches = list(map(float,input().split(\" \")))\n",
        "print(\"Heights in inches\")\n",
        "print(heights_in_inches)\n",
        "# Nested Comprehension\n",
        "heights_in_cms = []\n",
        "for height in heights_in_inches:\n",
        "    height_cm = round(height*2.54,2)\n",
        "    heights_in_cms.append(height_cm)\n",
        "\n",
        "print(\"Heights in centimetres (Converted using nested comprehension)\")\n",
        "print(heights_in_cms)\n",
        "\n",
        "# list comprehension\n",
        "heights_in_cms_comprehension = [round(height*2.54,2) for height in heights_in_inches]\n",
        "\n",
        "print(\"Heights in centimetres (Converted using list comprehension)\")\n",
        "print(heights_in_cms_comprehension)\n"
      ],
      "metadata": {
        "colab": {
          "base_uri": "https://localhost:8080/"
        },
        "id": "LoKUNSy58mfs",
        "outputId": "ff2d13fa-a120-49cf-9379-a7bdcd866d5d"
      },
      "execution_count": 19,
      "outputs": [
        {
          "output_type": "stream",
          "name": "stdout",
          "text": [
            "Enter heights in inches\n",
            "150 155 145 148\n",
            "Heights in inches\n",
            "[150.0, 155.0, 145.0, 148.0]\n",
            "Heights in centimetres (Converted using nested comprehension)\n",
            "[381.0, 393.7, 368.3, 375.92]\n",
            "Heights in centimetres (Converted using list comprehension)\n",
            "[381.0, 393.7, 368.3, 375.92]\n"
          ]
        }
      ]
    },
    {
      "cell_type": "markdown",
      "source": [
        "\n",
        "\n",
        "*   input().split(\" \") splits the entire line into chunks by using space(\" \") delimiter\n",
        "*   map function converts the input strings into float values\n",
        "*   list function allows to convert the individual float values into list of float values\n",
        "\n",
        "Nested Comprehension\n",
        "\n",
        "*    using a loop, accessing each value in the list of heights_in_inches\n",
        "*    converts each value into centimetres and rounds up the value upto 2 decimal values\n",
        "*   next line adds converted value into heights_in_cms list\n",
        "\n",
        "list comprehension\n",
        "\n",
        "*    for height in heights_in_inches iterates the list and accesses each value to convert into centimetres\n",
        "*    round(height*2.54,2) converts inches into centimetres and rounds the result to 2 decimal places\n",
        "\n"
      ],
      "metadata": {
        "id": "aWZCBm-tlgfV"
      }
    }
  ]
}