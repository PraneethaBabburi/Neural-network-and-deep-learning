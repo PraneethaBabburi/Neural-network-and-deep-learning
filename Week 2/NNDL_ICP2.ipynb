{
  "nbformat": 4,
  "nbformat_minor": 0,
  "metadata": {
    "colab": {
      "provenance": []
    },
    "kernelspec": {
      "name": "python3",
      "display_name": "Python 3"
    },
    "language_info": {
      "name": "python"
    }
  },
  "cells": [
    {
      "cell_type": "code",
      "source": [
        "#Question 1\n",
        "class Employee:\n",
        "  # data member to count the number of employees\n",
        "  no_of_employees = 0\n",
        "  def __init__(self,name,family,salary,department):\n",
        "    self.name = name\n",
        "    self.family = family\n",
        "    self.salary = salary\n",
        "    self.department = department\n",
        "    Employee.no_of_employees += 1\n",
        "\n",
        "  def average_salary(employees):\n",
        "    if len(employees) == 0:\n",
        "      return 0\n",
        "    sum = 0\n",
        "    for employee in employees:\n",
        "      sum += employee.salary\n",
        "    return sum / len(employees)\n",
        "\n",
        "class FullTimeEmployee(Employee):\n",
        "  def __init__(self,name,family,salary,department):\n",
        "    super().__init__(name,family,salary,department)\n",
        "\n",
        "# Create instances of Employee and FulltimeEmployee\n",
        "e1=Employee('John','Smith',40000,'IT')\n",
        "e2=Employee('Luca','green',90000,'Finance')\n",
        "fe1=FullTimeEmployee('Bob','Builder',70000,'civil')\n",
        "fe2=FullTimeEmployee('Oswald','Blue',40000,'HR')\n",
        "\n",
        "# List of all employees\n",
        "employees = [e1,e2,fe1,fe2]\n",
        "\n",
        "# Print details of all employees\n",
        "for emp in employees:\n",
        "    print(f\"Name: {emp.name}, Family: {emp.family}, Salary: {emp.salary}, Department: {emp.department}\")\n",
        "\n",
        "# List of all full time employees\n",
        "Full_time_employees = [fe1,fe2]\n",
        "\n",
        "# Print total number of employees\n",
        "print(\"Total number of employees:\", Employee.no_of_employees)\n",
        "\n",
        "# Calculate and print average salary of all employees\n",
        "avg_salary = Employee.average_salary(employees)\n",
        "print(\"Average Salary of all employees is:\", avg_salary)\n",
        "\n",
        "# Calculate and print average salary of full time employees\n",
        "Fe_avg_salary = FullTimeEmployee.average_salary(Full_time_employees)\n",
        "print(\"Average Salary of full time employees is:\", Fe_avg_salary)\n",
        ""
      ],
      "metadata": {
        "colab": {
          "base_uri": "https://localhost:8080/"
        },
        "id": "BS8PjvDpzbGp",
        "outputId": "b90ce7c9-37c1-4ca8-9261-2662df56e158"
      },
      "execution_count": 13,
      "outputs": [
        {
          "output_type": "stream",
          "name": "stdout",
          "text": [
            "Name: John, Family: Smith, Salary: 40000, Department: IT\n",
            "Name: Luca, Family: green, Salary: 90000, Department: Finance\n",
            "Name: Bob, Family: Builder, Salary: 70000, Department: civil\n",
            "Name: Oswald, Family: Blue, Salary: 40000, Department: HR\n",
            "Total number of employees: 4\n",
            "Average Salary of all employees is: 60000.0\n",
            "Average Salary of full time employees is: 55000.0\n"
          ]
        }
      ]
    },
    {
      "cell_type": "code",
      "execution_count": 17,
      "metadata": {
        "colab": {
          "base_uri": "https://localhost:8080/"
        },
        "id": "vRJK5fYOw9wj",
        "outputId": "001a58a6-0b7c-44ed-b105-8a32cd165f4f"
      },
      "outputs": [
        {
          "output_type": "stream",
          "name": "stdout",
          "text": [
            "Initial vector:\n",
            " [12.91594629  3.09700303  9.66076448  6.21214126 15.17562587  6.50113064\n",
            " 11.43031213 16.06979422  1.66132463 14.01952415 15.80836071 19.44797623\n",
            "  3.72831976 11.23920843 10.04602908  6.61946178  7.89187558  8.98697361\n",
            " 11.51410259 19.90168081]\n",
            "\n",
            "Reshaped array:\n",
            " [[12.91594629  3.09700303  9.66076448  6.21214126 15.17562587]\n",
            " [ 6.50113064 11.43031213 16.06979422  1.66132463 14.01952415]\n",
            " [15.80836071 19.44797623  3.72831976 11.23920843 10.04602908]\n",
            " [ 6.61946178  7.89187558  8.98697361 11.51410259 19.90168081]]\n",
            "\n",
            "Array after replacing max in each row with 0:\n",
            " [[12.91594629  3.09700303  9.66076448  6.21214126  0.        ]\n",
            " [ 6.50113064 11.43031213  0.          1.66132463 14.01952415]\n",
            " [15.80836071  0.          3.72831976 11.23920843 10.04602908]\n",
            " [ 6.61946178  7.89187558  8.98697361 11.51410259  0.        ]]\n"
          ]
        }
      ],
      "source": [
        "#Question 2\n",
        "import numpy as np\n",
        "\n",
        "#Create a random vector of size 20 with float in the range 1-20\n",
        "vector=np.random.uniform(1,20, size=20)\n",
        "print(\"Initial vector:\\n\",vector)\n",
        "\n",
        "#Reshape the array to 4 by 5\n",
        "reshaped_vector=vector.reshape(4,5)\n",
        "print(\"\\nReshaped array:\\n\",reshaped_vector)\n",
        "\n",
        "#Replace the max in each row with 0 without using a for loop\n",
        "max_indices = np.argmax(reshaped_vector, axis=1)  # Find max indices in each row\n",
        "rows = np.arange(reshaped_vector.shape[0])        # get the row indices\n",
        "reshaped_vector[rows,max_indices] = 0             # Replace max elements with 0\n",
        "print(\"\\nArray after replacing max in each row with 0:\\n\",reshaped_vector)"
      ]
    }
  ]
}